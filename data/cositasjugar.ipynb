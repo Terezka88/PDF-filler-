{
 "cells": [
  {
   "cell_type": "code",
   "execution_count": 4,
   "metadata": {},
   "outputs": [
    {
     "ename": "NameError",
     "evalue": "name '__file__' is not defined",
     "output_type": "error",
     "traceback": [
      "\u001b[0;31m---------------------------------------------------------------------------\u001b[0m",
      "\u001b[0;31mNameError\u001b[0m                                 Traceback (most recent call last)",
      "\u001b[0;32m/var/folders/st/pyqvzhfn5m1_7bh1czv0gw8w0000gn/T/ipykernel_13793/629018246.py\u001b[0m in \u001b[0;36m<module>\u001b[0;34m\u001b[0m\n\u001b[1;32m      3\u001b[0m \u001b[0;32mfrom\u001b[0m \u001b[0mfillpdf\u001b[0m \u001b[0;32mimport\u001b[0m \u001b[0mfillpdfs\u001b[0m\u001b[0;34m\u001b[0m\u001b[0;34m\u001b[0m\u001b[0m\n\u001b[1;32m      4\u001b[0m \u001b[0;34m\u001b[0m\u001b[0m\n\u001b[0;32m----> 5\u001b[0;31m \u001b[0mprint\u001b[0m\u001b[0;34m(\u001b[0m\u001b[0;34m\"RUNNING:\"\u001b[0m\u001b[0;34m,\u001b[0m \u001b[0m__file__\u001b[0m\u001b[0;34m)\u001b[0m\u001b[0;34m\u001b[0m\u001b[0;34m\u001b[0m\u001b[0m\n\u001b[0m\u001b[1;32m      6\u001b[0m \u001b[0;34m\u001b[0m\u001b[0m\n\u001b[1;32m      7\u001b[0m \u001b[0minput_excel_path\u001b[0m \u001b[0;34m=\u001b[0m \u001b[0;34m\"data/Rafa_pdf 2.xlsx\"\u001b[0m\u001b[0;34m\u001b[0m\u001b[0;34m\u001b[0m\u001b[0m\n",
      "\u001b[0;31mNameError\u001b[0m: name '__file__' is not defined"
     ]
    }
   ],
   "source": [
    "import os\n",
    "import pandas as pd\n",
    "from fillpdf import fillpdfs\n",
    "\n",
    "print(\"RUNNING:\", __file__)\n",
    "\n",
    "input_excel_path = \"data/Rafa_pdf 2.xlsx\"\n",
    "input_pdf_path = \"/Users/tercule/Documents/GitHub/PDF_filler/data/PDF_samples2/E-2-Datenblatt-fuer-Erzeugungseinheiten.pdf\"\n",
    "output_directory = \"Carpeta_PDF3\"\n",
    "\n",
    "# Reading data from Excel file\n",
    "print(\"READING DATA FROM\", input_excel_path, \"...\")\n",
    "try:\n",
    "    df = pd.read_excel(input_excel_path, header=3)\n",
    "except FileNotFoundError:\n",
    "    print(f\"Error: The file {input_excel_path} was not found.\")\n",
    "    exit(1)\n",
    "\n",
    "# Create output directory if it doesn't exist\n",
    "if not os.path.exists(output_directory):\n",
    "    os.makedirs(output_directory)\n",
    "\n",
    "print(\"READING PDF DATA FROM\", input_pdf_path)\n",
    "\n",
    "# Iterating over rows in the DataFrame\n",
    "for index, row in df.iterrows():\n",
    "    data_dic = row.to_dict()\n",
    "    # Applying data transformations\n",
    "    data_dic = {k: (\"1\" if v == \"Y\" else v) for k, v in data_dic.items()}\n",
    "    data_dic = {k: (\"Off\" if v == \"N\" else v) for k, v in data_dic.items()}\n",
    "\n",
    "    # Constructing output file path\n",
    "    filename_ext = \"_\".join(str(data_dic['Name']).split())\n",
    "    output_pdf_path = os.path.join(output_directory, f\"output_{filename_ext}_{os.path.basename(input_pdf_path)[:-4]}.pdf\")\n",
    "\n",
    "    # Writing data to PDF\n",
    "    print(\"WRITING TO\", output_pdf_path)\n",
    "    try:\n",
    "        fillpdfs.write_fillable_pdf(input_pdf_path=input_pdf_path, output_pdf_path=output_pdf_path, data_dict=data_dic)\n",
    "    except KeyError as e:\n",
    "        print(f\"KeyError: {e} - Retrying with different data transformations.\")\n",
    "        data_dic = {k: (\"Ja\" if v == \"Y\" else v) for k, v in row.to_dict().items()}\n",
    "        data_dic = {k: (\"0\" if v == \"N\" else v) for k, v in data_dic.items()}\n",
    "        fillpdfs.write_fillable_pdf(input_pdf_path=input_pdf_path, output_pdf_path=output_pdf_path, data_dict=data_dic)\n",
    "    except Exception as e:\n",
    "        print(f\"An error occurred: {e}\")\n",
    "\n",
    "print(\"PROCESSING COMPLETE.\")\n"
   ]
  },
  {
   "cell_type": "code",
   "execution_count": 3,
   "metadata": {},
   "outputs": [
    {
     "ename": "NameError",
     "evalue": "name '__file__' is not defined",
     "output_type": "error",
     "traceback": [
      "\u001b[0;31m---------------------------------------------------------------------------\u001b[0m",
      "\u001b[0;31mNameError\u001b[0m                                 Traceback (most recent call last)",
      "\u001b[0;32m/var/folders/st/pyqvzhfn5m1_7bh1czv0gw8w0000gn/T/ipykernel_13793/1135717268.py\u001b[0m in \u001b[0;36m<module>\u001b[0;34m\u001b[0m\n\u001b[1;32m      3\u001b[0m \u001b[0;32mfrom\u001b[0m \u001b[0mfillpdf\u001b[0m \u001b[0;32mimport\u001b[0m \u001b[0mfillpdfs\u001b[0m\u001b[0;34m\u001b[0m\u001b[0;34m\u001b[0m\u001b[0m\n\u001b[1;32m      4\u001b[0m \u001b[0;34m\u001b[0m\u001b[0m\n\u001b[0;32m----> 5\u001b[0;31m \u001b[0mprint\u001b[0m\u001b[0;34m(\u001b[0m\u001b[0;34m\"RUNNING:\"\u001b[0m\u001b[0;34m,\u001b[0m \u001b[0m__file__\u001b[0m\u001b[0;34m)\u001b[0m\u001b[0;34m\u001b[0m\u001b[0;34m\u001b[0m\u001b[0m\n\u001b[0m\u001b[1;32m      6\u001b[0m \u001b[0;34m\u001b[0m\u001b[0m\n\u001b[1;32m      7\u001b[0m \u001b[0minput_excel_path\u001b[0m \u001b[0;34m=\u001b[0m \u001b[0;34m\"data/Rafa_pdf 2.xlsx\"\u001b[0m\u001b[0;34m\u001b[0m\u001b[0;34m\u001b[0m\u001b[0m\n",
      "\u001b[0;31mNameError\u001b[0m: name '__file__' is not defined"
     ]
    }
   ],
   "source": [
    "import os\n",
    "import pandas as pd\n",
    "from fillpdf import fillpdfs\n",
    "\n",
    "print(\"RUNNING:\", __file__)\n",
    "\n",
    "input_excel_path = \"data/Rafa_pdf 2.xlsx\"\n",
    "input_folder = \"/Users/tercule/Documents/GitHub/PDF_filler/data/PDF_samples2\"\n",
    "output_directory = \"Carpeta_PDF3\"\n",
    "\n",
    "# Reading data from Excel file\n",
    "print(\"READING DATA FROM\", input_excel_path, \"...\")\n",
    "try:\n",
    "    df = pd.read_excel(input_excel_path, header=3)\n",
    "except FileNotFoundError:\n",
    "    print(f\"Error: The file {input_excel_path} was not found.\")\n",
    "    exit(1)\n",
    "\n",
    "# Create output directory if it doesn't exist\n",
    "if not os.path.exists(output_directory):\n",
    "    os.makedirs(output_directory)\n",
    "\n",
    "# Iterating over PDF files in the input folder\n",
    "for file in os.listdir(input_folder):\n",
    "    input_pdf_path = os.path.join(input_folder, file)\n",
    "    if not file.endswith('.pdf'):\n",
    "        continue\n",
    "\n",
    "    print(\"READING PDF DATA FROM\", input_pdf_path)\n",
    "\n",
    "    # Iterating over rows in the DataFrame\n",
    "    for index, row in df.iterrows():\n",
    "        data_dic = row.to_dict()\n",
    "        # Applying data transformations\n",
    "        data_dic = {k: (\"1\" if v == \"Y\" else v) for k, v in data_dic.items()}\n",
    "        data_dic = {k: (\"Off\" if v == \"N\" else v) for k, v in data_dic.items()}\n",
    "\n",
    "        # Constructing output file path\n",
    "        filename_ext = \"_\".join(str(data_dic['Name']).split())\n",
    "        output_pdf_path = os.path.join(output_directory, f\"output_{filename_ext}_{file[:-4]}.pdf\")\n",
    "\n",
    "        # Writing data to PDF\n",
    "        print(\"WRITING TO\", output_pdf_path)\n",
    "        try:\n",
    "            fillpdfs.write_fillable_pdf(input_pdf_path=input_pdf_path, output_pdf_path=output_pdf_path, data_dict=data_dic)\n",
    "        except KeyError as e:\n",
    "            print(f\"KeyError: {e} - Retrying with different data transformations.\")\n",
    "            data_dic = {k: (\"Ja\" if v == \"Y\" else v) for k, v in row.to_dict().items()}\n",
    "            data_dic = {k: (\"0\" if v == \"N\" else v) for k, v in data_dic.items()}\n",
    "            fillpdfs.write_fillable_pdf(input_pdf_path=input_pdf_path, output_pdf_path=output_directory)\n"
   ]
  }
 ],
 "metadata": {
  "interpreter": {
   "hash": "09817ce728554b5d830c846234a1380e6e92a9615819fcc79fdde6359621f58e"
  },
  "kernelspec": {
   "display_name": "Python 3.7.9 ('.venv': venv)",
   "language": "python",
   "name": "python3"
  },
  "language_info": {
   "codemirror_mode": {
    "name": "ipython",
    "version": 3
   },
   "file_extension": ".py",
   "mimetype": "text/x-python",
   "name": "python",
   "nbconvert_exporter": "python",
   "pygments_lexer": "ipython3",
   "version": "3.7.9"
  },
  "orig_nbformat": 4
 },
 "nbformat": 4,
 "nbformat_minor": 2
}
